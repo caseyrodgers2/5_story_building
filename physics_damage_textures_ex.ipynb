{
 "cells": [
  {
   "cell_type": "markdown",
   "id": "2ae3fdda",
   "metadata": {},
   "source": [
    "# Physics-based Damage Textures"
   ]
  },
  {
   "cell_type": "markdown",
   "id": "263f61ec",
   "metadata": {},
   "source": [
    "## By Casey Rodgers"
   ]
  },
  {
   "cell_type": "markdown",
   "id": "6d7f596b",
   "metadata": {},
   "source": [
    "This Jupyter Notebook is meant to show what the \"physics_damage_textures.py\" script can do and demonstrate how to use it."
   ]
  },
  {
   "cell_type": "code",
   "execution_count": null,
   "id": "30ffef0b",
   "metadata": {},
   "outputs": [],
   "source": [
    "import cv2\n",
    "import matplotlib.pyplot as plt\n",
    "%matplotlib inline\n",
    "\n",
    "from physics_damage_textures import PhysicsDamage"
   ]
  },
  {
   "cell_type": "code",
   "execution_count": null,
   "id": "b579d3f1",
   "metadata": {
    "scrolled": false
   },
   "outputs": [],
   "source": [
    "pd = PhysicsDamage()  # Create physics damage object\n",
    "\n",
    "# Variables\n",
    "actW = 1.6      # Actual width of concrete area\n",
    "rebar = 1       # Is there rebar? 0 = No. 1 = Yes.\n",
    "scale = 1       # How many times larger do you want textures to be compared to Damage map size?\n",
    "yesCracks = 0   # Do you want cracks or make it all spalling? 0 = Cracks and spalling. 1 = Only spalling\n",
    "\n",
    "dam_map_fn = 'inputs/example1.png'  # Damage map file name\n",
    "conc_sample_fn = 'samples/concrete_real2.jpg'  # Concrete sample file name\n",
    "long_rebar_sample_fn = 'samples/long_rebar.png'  # Longitudinal rebar sample file name\n",
    "stir_rebar_sample_fn = 'samples/stir_rebar.png'  # Stirup rebar sample file name\n",
    "\n",
    "conc_act_w = 1  # Actual width of concrete in sample image\n",
    "\n",
    "pd.damageConcTextures(dam_map_fn, actW, conc_sample_fn, conc_act_w, rebar, scale, yesCracks, long_rebar_sample_fn, stir_rebar_sample_fn)"
   ]
  },
  {
   "cell_type": "code",
   "execution_count": null,
   "id": "1b343b3d",
   "metadata": {},
   "outputs": [],
   "source": []
  }
 ],
 "metadata": {
  "kernelspec": {
   "display_name": "Python 3 (ipykernel)",
   "language": "python",
   "name": "python3"
  },
  "language_info": {
   "codemirror_mode": {
    "name": "ipython",
    "version": 3
   },
   "file_extension": ".py",
   "mimetype": "text/x-python",
   "name": "python",
   "nbconvert_exporter": "python",
   "pygments_lexer": "ipython3",
   "version": "3.9.13"
  }
 },
 "nbformat": 4,
 "nbformat_minor": 5
}
