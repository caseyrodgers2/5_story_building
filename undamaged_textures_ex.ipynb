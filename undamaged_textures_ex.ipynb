{
 "cells": [
  {
   "cell_type": "markdown",
   "id": "459e16da",
   "metadata": {},
   "source": [
    "# Random Seamless Material Texture"
   ]
  },
  {
   "cell_type": "markdown",
   "id": "68e6e350",
   "metadata": {},
   "source": [
    "## By Casey Rodgers"
   ]
  },
  {
   "cell_type": "markdown",
   "id": "23b56487",
   "metadata": {},
   "source": [
    "This Jupyter Notebook is meant to show what the \"undamaged_textures.py\" script can do and demonstrate how to use it."
   ]
  },
  {
   "cell_type": "code",
   "execution_count": null,
   "id": "b25ef529",
   "metadata": {},
   "outputs": [],
   "source": [
    "from undamaged_textures import UndamagedTex"
   ]
  },
  {
   "cell_type": "code",
   "execution_count": null,
   "id": "c27bd9ff",
   "metadata": {
    "scrolled": false
   },
   "outputs": [],
   "source": [
    "sample_img_fn = \"samples\\concrete_real2.jpg\"  # Concrete sample file name\n",
    "w = 512  # Desired output width\n",
    "h = 512  # Desired output height\n",
    "\n",
    "ut = UndamagedTex()  # Create an UndamagedTex object\n",
    "\n",
    "output2, norm_arr, rough_arr, displ_arr = ut.createRanSeamlessTex(sample_img_fn, w, h)"
   ]
  },
  {
   "cell_type": "code",
   "execution_count": null,
   "id": "e38ceb22",
   "metadata": {},
   "outputs": [],
   "source": []
  }
 ],
 "metadata": {
  "kernelspec": {
   "display_name": "Python 3 (ipykernel)",
   "language": "python",
   "name": "python3"
  },
  "language_info": {
   "codemirror_mode": {
    "name": "ipython",
    "version": 3
   },
   "file_extension": ".py",
   "mimetype": "text/x-python",
   "name": "python",
   "nbconvert_exporter": "python",
   "pygments_lexer": "ipython3",
   "version": "3.9.13"
  }
 },
 "nbformat": 4,
 "nbformat_minor": 5
}
